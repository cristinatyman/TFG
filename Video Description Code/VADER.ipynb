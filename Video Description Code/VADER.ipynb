{
  "nbformat": 4,
  "nbformat_minor": 0,
  "metadata": {
    "colab": {
      "provenance": []
    },
    "kernelspec": {
      "name": "python3",
      "display_name": "Python 3"
    },
    "language_info": {
      "name": "python"
    }
  },
  "cells": [
    {
      "cell_type": "code",
      "execution_count": null,
      "metadata": {
        "id": "xtywulsPxTPk"
      },
      "outputs": [],
      "source": [
        "pip install vader-multi"
      ]
    },
    {
      "cell_type": "code",
      "source": [
        "from google.colab import files\n",
        "\n",
        "uploaded = files.upload()"
      ],
      "metadata": {
        "id": "NjqKCoyDxaIB"
      },
      "execution_count": null,
      "outputs": []
    },
    {
      "cell_type": "code",
      "source": [
        "import pandas as pd\n",
        "from vaderSentiment.vaderSentiment import SentimentIntensityAnalyzer\n",
        "\n",
        "# Load CSV file into a DataFrame with the correct delimiter\n",
        "df = pd.read_csv('example_videos_channel_2023.csv', delimiter=';')\n",
        "\n",
        "# Replace NaN values in 'videoDescription' with an empty string\n",
        "df['videoDescription'] = df['videoDescription'].fillna('')\n",
        "\n",
        "# Filter out rows where 'videoDescription' is empty\n",
        "df = df[df['videoDescription'] != '']\n",
        "\n",
        "# Analyze 'videoDescription' column\n",
        "texts_to_analyze = df['videoDescription']\n",
        "\n",
        "# Create the sentiment analyzer\n",
        "analyzer = SentimentIntensityAnalyzer()\n",
        "\n",
        "# Define a function to apply sentiment analysis and return the result\n",
        "def analyze_sentiment(text):\n",
        "    scores = analyzer.polarity_scores(text)\n",
        "    compound_score = scores['compound']\n",
        "\n",
        "    # Determine the sentiment category based on the compound score\n",
        "    if compound_score > 0.00:\n",
        "        sentiment_output = 'POS'\n",
        "    elif compound_score < 0.00:\n",
        "        sentiment_output = 'NEG'\n",
        "    else:\n",
        "        sentiment_output = 'NEU'\n",
        "\n",
        "    return sentiment_output, scores\n",
        "\n",
        "# Apply the sentiment analysis to each text in the 'videoDescription' column\n",
        "df['sentiment_output'], df['sentiment_probas'] = zip(*texts_to_analyze.map(analyze_sentiment))\n",
        "\n",
        "# Convert sentiment_probas column from dictionary to string\n",
        "df['sentiment_probas'] = df['sentiment_probas'].astype(str)\n",
        "\n",
        "# Extract the average sentiment compound score\n",
        "average_compound_score = df['sentiment_probas'].apply(lambda x: eval(x)['compound']).mean()\n",
        "\n",
        "# Display the DataFrame with the sentiment analysis results\n",
        "display(df[['videoDescription', 'sentiment_output', 'sentiment_probas']])\n",
        "\n",
        "# Calculate the overall probability of being negative\n",
        "total_negative_count = len(df[df['sentiment_output'] == 'NEG'])\n",
        "total_texts_count = len(df)\n",
        "overall_negative_probability = total_negative_count / total_texts_count\n",
        "\n",
        "print(\"Overall Probability to be Negative:\", overall_negative_probability)"
      ],
      "metadata": {
        "id": "L5X3HYfbxclc"
      },
      "execution_count": null,
      "outputs": []
    }
  ]
}