{
  "nbformat": 4,
  "nbformat_minor": 0,
  "metadata": {
    "colab": {
      "provenance": []
    },
    "kernelspec": {
      "name": "python3",
      "display_name": "Python 3"
    },
    "language_info": {
      "name": "python"
    }
  },
  "cells": [
    {
      "cell_type": "code",
      "execution_count": null,
      "metadata": {
        "id": "K37I_X5a1NVQ"
      },
      "outputs": [],
      "source": [
        "!pip3 install virtualenv"
      ]
    },
    {
      "cell_type": "code",
      "source": [
        "!virtualenv perspectiveAPI"
      ],
      "metadata": {
        "id": "XDFeBJDO1WRY"
      },
      "execution_count": null,
      "outputs": []
    },
    {
      "cell_type": "code",
      "source": [
        "!source perspectiveAPI/bin/activate"
      ],
      "metadata": {
        "id": "3ZTfzsWF1X0S"
      },
      "execution_count": null,
      "outputs": []
    },
    {
      "cell_type": "code",
      "source": [
        "!perspectiveAPI/bin/pip install google-api-python-client"
      ],
      "metadata": {
        "id": "kuWDifFp1Y06"
      },
      "execution_count": null,
      "outputs": []
    },
    {
      "cell_type": "code",
      "source": [
        "!curl https://sdk.cloud.google.com | bash"
      ],
      "metadata": {
        "id": "PrVdH1eP1c-7"
      },
      "execution_count": null,
      "outputs": []
    },
    {
      "cell_type": "code",
      "source": [
        "!/root/google-cloud-sdk/bin/gcloud init"
      ],
      "metadata": {
        "id": "tCcq25p11hcz"
      },
      "execution_count": null,
      "outputs": []
    },
    {
      "cell_type": "code",
      "source": [
        "!gcloud services enable commentanalyzer.googleapis.com"
      ],
      "metadata": {
        "id": "8Xz9TyeE1kK-"
      },
      "execution_count": null,
      "outputs": []
    },
    {
      "cell_type": "code",
      "source": [
        "from google.colab import files\n",
        "\n",
        "uploaded = files.upload()"
      ],
      "metadata": {
        "id": "A6f-Y2lJ1nie"
      },
      "execution_count": null,
      "outputs": []
    },
    {
      "cell_type": "code",
      "source": [],
      "metadata": {
        "id": "0kzkA_My1suP"
      },
      "execution_count": null,
      "outputs": []
    },
    {
      "cell_type": "code",
      "execution_count": null,
      "metadata": {
        "colab": {
          "base_uri": "https://localhost:8080/"
        },
        "id": "ufKxCjJMjlZ9",
        "outputId": "a8925b35-0acc-4667-9369-0e88db747f38"
      },
      "outputs": [
        {
          "name": "stdout",
          "output_type": "stream",
          "text": [
            "Analyzing text at row 1...\n",
            "Analyzing text at row 2...\n",
            "Analyzing text at row 3...\n"
          ]
        }
      ],
      "source": [
        "import pandas as pd\n",
        "import json\n",
        "from googleapiclient import discovery\n",
        "\n",
        "# Define your API_KEY\n",
        "API_KEY = \"API_KEY\"\n",
        "\n",
        "# Initialize the client\n",
        "client = discovery.build(\n",
        "    \"commentanalyzer\",\n",
        "    \"v1alpha1\",\n",
        "    developerKey=API_KEY,\n",
        "    discoveryServiceUrl=\"https://commentanalyzer.googleapis.com/$discovery/rest?version=v1alpha1\",\n",
        "    static_discovery=False,\n",
        ")\n",
        "\n",
        "# Function to analyze text and return results\n",
        "def analyze_text(text):\n",
        "    try:\n",
        "        analyze_request = {\n",
        "            'comment': {'text': text},\n",
        "            'requestedAttributes': {\n",
        "                'TOXICITY': {},\n",
        "                'IDENTITY_ATTACK': {},\n",
        "                'INSULT': {},\n",
        "                'PROFANITY': {},\n",
        "                'THREAT': {}\n",
        "            }\n",
        "        }\n",
        "        response = client.comments().analyze(body=analyze_request).execute()\n",
        "        return response\n",
        "    except Exception as e:\n",
        "        error_details = e.error_details[0]\n",
        "        if 'LANGUAGE_NOT_SUPPORTED_BY_ATTRIBUTE' in error_details:\n",
        "            print(f\"Skipping analysis for text due to unsupported language: {text}\")\n",
        "        elif 'LANGUAGE_NOT_SUPPORTED' in error_details:\n",
        "            print(f\"Skipping analysis for text due to undefined language: {text}\")\n",
        "        else:\n",
        "            print(f\"Skipping analysis due to error: {error_details}\")\n",
        "        # Return default values of 0 for each category\n",
        "        return {\n",
        "            'attributeScores': {\n",
        "                'TOXICITY': {'summaryScore': {'value': 0}},\n",
        "                'IDENTITY_ATTACK': {'summaryScore': {'value': 0}},\n",
        "                'INSULT': {'summaryScore': {'value': 0}},\n",
        "                'PROFANITY': {'summaryScore': {'value': 0}},\n",
        "                'THREAT': {'summaryScore': {'value': 0}}\n",
        "            }\n",
        "        }\n",
        "\n",
        "# Load CSV file into a DataFrame with the correct delimiter\n",
        "df = pd.read_csv('example_videos_channel_2023.csv', delimiter=';')\n",
        "\n",
        "# Replace NaN values in 'videoDescription' with an empty string\n",
        "df['videoDescription'] = df['videoDescription'].fillna('')\n",
        "\n",
        "# Define empty list to store results\n",
        "results = []\n",
        "\n",
        "# Analyze each text and store the results\n",
        "for index, row in df.iterrows():\n",
        "    text = row['videoDescription']\n",
        "    print(f\"Analyzing text at row {index+1}...\")\n",
        "    response = analyze_text(text)\n",
        "    result = {}\n",
        "    for attribute, scores in response['attributeScores'].items():\n",
        "        score_value = scores['summaryScore']['value']\n",
        "        result[attribute] = score_value\n",
        "        # Extract spanScores values if present\n",
        "        if 'spanScores' in scores:\n",
        "            for score in scores['spanScores']:\n",
        "                score_type = score['score']['type']\n",
        "                score_value = score['score']['value']\n",
        "                result[f'{attribute}_{score_type}'] = score_value\n",
        "    results.append(result)\n",
        "\n",
        "# Create a DataFrame to store the results\n",
        "results_df = pd.DataFrame(results)\n",
        "\n",
        "# Combine the 'videoDescription' column with the DataFrame\n",
        "results_df['videoDescription'] = df['videoDescription']\n",
        "\n",
        "# Reorder columns\n",
        "columns_order = ['videoDescription'] + sorted(results_df.columns[:-1])  # Exclude the 'videoDescription' column\n",
        "results_df = results_df[columns_order]\n",
        "\n",
        "# Save the DataFrame to a CSV file\n",
        "results_df.to_csv('example_perspective_video_description.csv', index=False)"
      ]
    },
    {
      "cell_type": "code",
      "source": [
        "from google.colab import files\n",
        "files.download('example_perspective_video_description.csv')"
      ],
      "metadata": {
        "id": "nSmS3FNI2Af6"
      },
      "execution_count": null,
      "outputs": []
    }
  ]
}