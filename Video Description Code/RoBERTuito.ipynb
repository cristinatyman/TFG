{
  "nbformat": 4,
  "nbformat_minor": 0,
  "metadata": {
    "colab": {
      "provenance": []
    },
    "kernelspec": {
      "name": "python3",
      "display_name": "Python 3"
    },
    "language_info": {
      "name": "python"
    }
  },
  "cells": [
    {
      "cell_type": "code",
      "execution_count": null,
      "metadata": {
        "id": "ejZU8lljvwrW"
      },
      "outputs": [],
      "source": [
        "%pip install pysentimiento"
      ]
    },
    {
      "cell_type": "code",
      "source": [
        "from google.colab import files\n",
        "uploaded = files.upload()"
      ],
      "metadata": {
        "id": "hO_RWoYuwBPA"
      },
      "execution_count": null,
      "outputs": []
    },
    {
      "cell_type": "code",
      "source": [
        "import pandas as pd\n",
        "from pysentimiento import create_analyzer\n",
        "\n",
        "# Load CSV file into a DataFrame with the correct delimiter\n",
        "df = pd.read_csv('example_videos_channel_2023.csv', delimiter=';')\n",
        "\n",
        "# Replace NaN values in 'videoDescription' with an empty string\n",
        "df['videoDescription'] = df['videoDescription'].fillna('')\n",
        "\n",
        "# Filter out rows where 'videoDescription' is empty\n",
        "df = df[df['videoDescription'] != '']\n",
        "\n",
        "# Analyze 'videoDescription' column\n",
        "texts_to_analyze = df['videoDescription']\n",
        "\n",
        "# Create the sentiment analyzer\n",
        "analyzer = create_analyzer(task=\"sentiment\", lang=\"es\")\n",
        "\n",
        "# Define a function to apply sentiment analysis and return the result\n",
        "def analyze_sentiment(text):\n",
        "    result = analyzer.predict(text)\n",
        "    return result.output, result.probas\n",
        "\n",
        "# Apply the sentiment analysis to each text in the 'videoDescription' column\n",
        "df['sentiment_output'], df['sentiment_probas'] = zip(*texts_to_analyze.map(analyze_sentiment))\n",
        "\n",
        "# Extract the average sentiment probabilities\n",
        "average_probas = df['sentiment_probas'].apply(lambda x: x.get('NEG', 0)).mean()\n",
        "\n",
        "# Display the DataFrame with the sentiment analysis results\n",
        "display(df[['videoDescription', 'sentiment_output', 'sentiment_probas']])\n",
        "\n",
        "# Display the average sentiment probabilities\n",
        "print(\"Average Sentiment Probabilities for NEG class:\", average_probas)"
      ],
      "metadata": {
        "id": "0quF2WZPwDQ5"
      },
      "execution_count": null,
      "outputs": []
    }
  ]
}