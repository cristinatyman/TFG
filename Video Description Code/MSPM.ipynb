{
  "nbformat": 4,
  "nbformat_minor": 0,
  "metadata": {
    "colab": {
      "provenance": []
    },
    "kernelspec": {
      "name": "python3",
      "display_name": "Python 3"
    },
    "language_info": {
      "name": "python"
    }
  },
  "cells": [
    {
      "cell_type": "code",
      "execution_count": null,
      "metadata": {
        "id": "f9L4Etv2z0n-"
      },
      "outputs": [],
      "source": [
        "!pip install transformers"
      ]
    },
    {
      "cell_type": "code",
      "source": [
        "from google.colab import files\n",
        "\n",
        "uploaded = files.upload()"
      ],
      "metadata": {
        "id": "znpZxVb4z2hy"
      },
      "execution_count": null,
      "outputs": []
    },
    {
      "cell_type": "code",
      "source": [
        "import pandas as pd\n",
        "from transformers import pipeline\n",
        "\n",
        "# Load CSV file into a DataFrame with the correct delimiter\n",
        "df = pd.read_csv('example_videos_channel_2023.csv', delimiter=';')\n",
        "\n",
        "# Replace NaN values in 'videoDescription' with an empty string\n",
        "df['videoDescription'] = df['videoDescription'].fillna('')\n",
        "\n",
        "# Filter out rows where 'videoDescription' is empty\n",
        "df = df[df['videoDescription'] != '']\n",
        "\n",
        "# Create the sentiment classification pipeline\n",
        "classifier = pipeline(\"text-classification\", \"clampert/multilingual-sentiment-covid19\")\n",
        "\n",
        "# Define a function to apply sentiment analysis and return the result\n",
        "def analyze_sentiment(text):\n",
        "    max_seq_length = 512\n",
        "    truncated_text = text[:max_seq_length]\n",
        "\n",
        "    result = classifier(truncated_text)\n",
        "    label = result[0]['label']\n",
        "    score = result[0]['score']\n",
        "    probabilities = {label: score}\n",
        "\n",
        "    # Extract probabilities for each label\n",
        "    if 'scores' in result[0]:\n",
        "        for res in result[0]['scores']:\n",
        "            probabilities[res['label']] = res['score']\n",
        "\n",
        "    return label, score, probabilities\n",
        "\n",
        "# Apply the sentiment analysis to each text in the 'videoDescription' column\n",
        "df['sentiment_output'], df['sentiment_score'], df['sentiment_probabilities'] = zip(*df['videoDescription'].map(analyze_sentiment))\n",
        "\n",
        "# Display the DataFrame with the sentiment analysis results\n",
        "df[['videoDescription', 'sentiment_output', 'sentiment_score', 'sentiment_probabilities']].to_csv('example_sentiment_analysis_results.csv', index=False)\n",
        "\n",
        "# Calculate overall probabilities\n",
        "overall_probabilities = {'negative': 0, 'positive': 0}\n",
        "total_rows = len(df)\n",
        "\n",
        "for _, row in df.iterrows():\n",
        "    probabilities = row['sentiment_probabilities']\n",
        "    for label, probability in probabilities.items():\n",
        "        overall_probabilities[label] += probability\n",
        "\n",
        "# Normalize the probabilities to sum up to 100%\n",
        "total_probability = sum(overall_probabilities.values())\n",
        "for label in overall_probabilities:\n",
        "    overall_probabilities[label] /= total_probability\n",
        "    overall_probabilities[label] *= 100\n",
        "\n",
        "# Display overall probabilities\n",
        "print(\"Overall Probabilities:\")\n",
        "for label, probability in overall_probabilities.items():\n",
        "    print(f\"{label}: {probability:.2f}%\")"
      ],
      "metadata": {
        "id": "jgnEDAUOz5FH"
      },
      "execution_count": null,
      "outputs": []
    },
    {
      "cell_type": "code",
      "source": [
        "from google.colab import files\n",
        "files.download('example_sentiment_analysis_results.csv')"
      ],
      "metadata": {
        "id": "uS9FQnui057h"
      },
      "execution_count": null,
      "outputs": []
    }
  ]
}